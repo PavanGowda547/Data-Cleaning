{
 "cells": [
  {
   "cell_type": "code",
   "execution_count": 2,
   "metadata": {},
   "outputs": [],
   "source": [
    "# Importing Libraries\n",
    "import pandas as pd\n",
    "data = pd.read_excel(\"Call_Center_Dataset.xlsx\")"
   ]
  },
  {
   "cell_type": "code",
   "execution_count": 3,
   "metadata": {},
   "outputs": [
    {
     "data": {
      "text/plain": [
       "5000"
      ]
     },
     "execution_count": 3,
     "metadata": {},
     "output_type": "execute_result"
    }
   ],
   "source": [
    "data.shape[0]"
   ]
  },
  {
   "cell_type": "code",
   "execution_count": 4,
   "metadata": {},
   "outputs": [
    {
     "data": {
      "text/plain": [
       "Index(['Call Id', 'Agent', 'Date', 'Time', 'Topic', 'Answered (Y/N)',\n",
       "       'Resolved', 'Speed of answer in seconds', 'AvgTalkDuration',\n",
       "       'Satisfaction rating'],\n",
       "      dtype='object')"
      ]
     },
     "execution_count": 4,
     "metadata": {},
     "output_type": "execute_result"
    }
   ],
   "source": [
    "data.columns"
   ]
  },
  {
   "cell_type": "code",
   "execution_count": 5,
   "metadata": {},
   "outputs": [
    {
     "name": "stdout",
     "output_type": "stream",
     "text": [
      "<class 'pandas.core.frame.DataFrame'>\n",
      "RangeIndex: 5000 entries, 0 to 4999\n",
      "Data columns (total 10 columns):\n",
      " #   Column                      Non-Null Count  Dtype  \n",
      "---  ------                      --------------  -----  \n",
      " 0   Call Id                     5000 non-null   object \n",
      " 1   Agent                       5000 non-null   object \n",
      " 2   Date                        5000 non-null   object \n",
      " 3   Time                        5000 non-null   object \n",
      " 4   Topic                       5000 non-null   object \n",
      " 5   Answered (Y/N)              5000 non-null   object \n",
      " 6   Resolved                    5000 non-null   object \n",
      " 7   Speed of answer in seconds  4054 non-null   float64\n",
      " 8   AvgTalkDuration             4054 non-null   object \n",
      " 9   Satisfaction rating         4054 non-null   float64\n",
      "dtypes: float64(2), object(8)\n",
      "memory usage: 390.8+ KB\n"
     ]
    }
   ],
   "source": [
    "data.info()"
   ]
  },
  {
   "cell_type": "code",
   "execution_count": 6,
   "metadata": {},
   "outputs": [
    {
     "data": {
      "text/html": [
       "<div>\n",
       "<style scoped>\n",
       "    .dataframe tbody tr th:only-of-type {\n",
       "        vertical-align: middle;\n",
       "    }\n",
       "\n",
       "    .dataframe tbody tr th {\n",
       "        vertical-align: top;\n",
       "    }\n",
       "\n",
       "    .dataframe thead th {\n",
       "        text-align: right;\n",
       "    }\n",
       "</style>\n",
       "<table border=\"1\" class=\"dataframe\">\n",
       "  <thead>\n",
       "    <tr style=\"text-align: right;\">\n",
       "      <th></th>\n",
       "      <th>Call Id</th>\n",
       "      <th>Agent</th>\n",
       "      <th>Date</th>\n",
       "      <th>Time</th>\n",
       "      <th>Topic</th>\n",
       "      <th>Answered (Y/N)</th>\n",
       "      <th>Resolved</th>\n",
       "      <th>Speed of answer in seconds</th>\n",
       "      <th>AvgTalkDuration</th>\n",
       "      <th>Satisfaction rating</th>\n",
       "    </tr>\n",
       "  </thead>\n",
       "  <tbody>\n",
       "    <tr>\n",
       "      <th>0</th>\n",
       "      <td>ID0001</td>\n",
       "      <td>Diane</td>\n",
       "      <td>2021-01-01</td>\n",
       "      <td>09:12:58</td>\n",
       "      <td>Contract related</td>\n",
       "      <td>Y</td>\n",
       "      <td>Y</td>\n",
       "      <td>109.0</td>\n",
       "      <td>00:02:23</td>\n",
       "      <td>3.0</td>\n",
       "    </tr>\n",
       "    <tr>\n",
       "      <th>1</th>\n",
       "      <td>ID0002</td>\n",
       "      <td>Becky</td>\n",
       "      <td>2021-01-01</td>\n",
       "      <td>09:12:58</td>\n",
       "      <td>Technical Support</td>\n",
       "      <td>Y</td>\n",
       "      <td>N</td>\n",
       "      <td>70.0</td>\n",
       "      <td>00:04:02</td>\n",
       "      <td>3.0</td>\n",
       "    </tr>\n",
       "    <tr>\n",
       "      <th>2</th>\n",
       "      <td>ID0003</td>\n",
       "      <td>Stewart</td>\n",
       "      <td>2021-01-01</td>\n",
       "      <td>09:47:31</td>\n",
       "      <td>Contract related</td>\n",
       "      <td>Y</td>\n",
       "      <td>Y</td>\n",
       "      <td>10.0</td>\n",
       "      <td>00:02:11</td>\n",
       "      <td>3.0</td>\n",
       "    </tr>\n",
       "    <tr>\n",
       "      <th>3</th>\n",
       "      <td>ID0004</td>\n",
       "      <td>Greg</td>\n",
       "      <td>2021-01-01</td>\n",
       "      <td>09:47:31</td>\n",
       "      <td>Contract related</td>\n",
       "      <td>Y</td>\n",
       "      <td>Y</td>\n",
       "      <td>53.0</td>\n",
       "      <td>00:00:37</td>\n",
       "      <td>2.0</td>\n",
       "    </tr>\n",
       "    <tr>\n",
       "      <th>4</th>\n",
       "      <td>ID0005</td>\n",
       "      <td>Becky</td>\n",
       "      <td>2021-01-01</td>\n",
       "      <td>10:00:29</td>\n",
       "      <td>Payment related</td>\n",
       "      <td>Y</td>\n",
       "      <td>Y</td>\n",
       "      <td>95.0</td>\n",
       "      <td>00:01:00</td>\n",
       "      <td>3.0</td>\n",
       "    </tr>\n",
       "  </tbody>\n",
       "</table>\n",
       "</div>"
      ],
      "text/plain": [
       "  Call Id    Agent        Date      Time              Topic Answered (Y/N)  \\\n",
       "0  ID0001    Diane  2021-01-01  09:12:58   Contract related              Y   \n",
       "1  ID0002    Becky  2021-01-01  09:12:58  Technical Support              Y   \n",
       "2  ID0003  Stewart  2021-01-01  09:47:31   Contract related              Y   \n",
       "3  ID0004     Greg  2021-01-01  09:47:31   Contract related              Y   \n",
       "4  ID0005    Becky  2021-01-01  10:00:29    Payment related              Y   \n",
       "\n",
       "  Resolved  Speed of answer in seconds AvgTalkDuration  Satisfaction rating  \n",
       "0        Y                       109.0        00:02:23                  3.0  \n",
       "1        N                        70.0        00:04:02                  3.0  \n",
       "2        Y                        10.0        00:02:11                  3.0  \n",
       "3        Y                        53.0        00:00:37                  2.0  \n",
       "4        Y                        95.0        00:01:00                  3.0  "
      ]
     },
     "execution_count": 6,
     "metadata": {},
     "output_type": "execute_result"
    }
   ],
   "source": [
    "data.head(5)"
   ]
  },
  {
   "cell_type": "code",
   "execution_count": 7,
   "metadata": {},
   "outputs": [
    {
     "data": {
      "text/plain": [
       "np.int64(0)"
      ]
     },
     "execution_count": 7,
     "metadata": {},
     "output_type": "execute_result"
    }
   ],
   "source": [
    "data.duplicated().sum()"
   ]
  },
  {
   "cell_type": "code",
   "execution_count": 8,
   "metadata": {},
   "outputs": [
    {
     "data": {
      "text/plain": [
       "Call Id                         0\n",
       "Agent                           0\n",
       "Date                            0\n",
       "Time                            0\n",
       "Topic                           0\n",
       "Answered (Y/N)                  0\n",
       "Resolved                        0\n",
       "Speed of answer in seconds    946\n",
       "AvgTalkDuration               946\n",
       "Satisfaction rating           946\n",
       "dtype: int64"
      ]
     },
     "execution_count": 8,
     "metadata": {},
     "output_type": "execute_result"
    }
   ],
   "source": [
    "data.isnull().sum()"
   ]
  },
  {
   "cell_type": "code",
   "execution_count": 9,
   "metadata": {},
   "outputs": [],
   "source": [
    "data['Speed of answer in seconds'] = data['Speed of answer in seconds'].fillna(data['Speed of answer in seconds'].mean())"
   ]
  },
  {
   "cell_type": "code",
   "execution_count": 10,
   "metadata": {},
   "outputs": [],
   "source": [
    "data['AvgTalkDuration'] = data['AvgTalkDuration'].astype(str)\n",
    "data['AvgTalkDuration'] = pd.to_timedelta(data['AvgTalkDuration'])\n",
    "data['AvgTalkDuration'] = data['AvgTalkDuration'].dt.total_seconds() / 60"
   ]
  },
  {
   "cell_type": "code",
   "execution_count": 11,
   "metadata": {},
   "outputs": [],
   "source": [
    "data['AvgTalkDuration'] = data['AvgTalkDuration'].fillna(data['AvgTalkDuration'].mean())\n",
    "data['AvgTalkDuration'] = data['AvgTalkDuration'].round(2)"
   ]
  },
  {
   "cell_type": "code",
   "execution_count": 12,
   "metadata": {},
   "outputs": [],
   "source": [
    "data['Satisfaction rating'] = data['Satisfaction rating'].fillna(data['Satisfaction rating'].mean())\n",
    "data['Satisfaction rating'] = data['Satisfaction rating'].round(2)"
   ]
  },
  {
   "cell_type": "code",
   "execution_count": 13,
   "metadata": {},
   "outputs": [
    {
     "data": {
      "text/plain": [
       "Call Id                       0\n",
       "Agent                         0\n",
       "Date                          0\n",
       "Time                          0\n",
       "Topic                         0\n",
       "Answered (Y/N)                0\n",
       "Resolved                      0\n",
       "Speed of answer in seconds    0\n",
       "AvgTalkDuration               0\n",
       "Satisfaction rating           0\n",
       "dtype: int64"
      ]
     },
     "execution_count": 13,
     "metadata": {},
     "output_type": "execute_result"
    }
   ],
   "source": [
    "data.isnull().sum()"
   ]
  },
  {
   "cell_type": "code",
   "execution_count": 15,
   "metadata": {},
   "outputs": [
    {
     "data": {
      "text/plain": [
       "dtype('<M8[ns]')"
      ]
     },
     "execution_count": 15,
     "metadata": {},
     "output_type": "execute_result"
    }
   ],
   "source": [
    "data['Speed of answer in seconds'] = pd.to_timedelta(data['Speed of answer in seconds'], unit = 's').dt.total_seconds()\n",
    "data['Speed of answer in seconds'] = data['Speed of answer in seconds'].round(2)\n",
    "data['Date'] = pd.to_datetime(data['Date'])\n",
    "data['Time'] = pd.to_datetime(data['Time'], format='%H:%M:%S')\n",
    "data['Time'].dtypes"
   ]
  },
  {
   "cell_type": "code",
   "execution_count": 16,
   "metadata": {},
   "outputs": [
    {
     "data": {
      "text/plain": [
       "Call Id                               object\n",
       "Agent                                 object\n",
       "Date                          datetime64[ns]\n",
       "Time                          datetime64[ns]\n",
       "Topic                                 object\n",
       "Answered (Y/N)                        object\n",
       "Resolved                              object\n",
       "Speed of answer in seconds           float64\n",
       "AvgTalkDuration                      float64\n",
       "Satisfaction rating                  float64\n",
       "dtype: object"
      ]
     },
     "execution_count": 16,
     "metadata": {},
     "output_type": "execute_result"
    }
   ],
   "source": [
    "data.dtypes"
   ]
  },
  {
   "cell_type": "code",
   "execution_count": 17,
   "metadata": {},
   "outputs": [],
   "source": [
    "data['Answered (Y/N)'] = data['Answered (Y/N)'].replace({'Y':'Yes','N':'No'})\n",
    "data['Resolved'].unique()\n",
    "data['Resolved'] = data['Resolved'].replace({'Y':'Yes','N':'No'})"
   ]
  },
  {
   "cell_type": "code",
   "execution_count": 18,
   "metadata": {},
   "outputs": [
    {
     "data": {
      "text/html": [
       "<div>\n",
       "<style scoped>\n",
       "    .dataframe tbody tr th:only-of-type {\n",
       "        vertical-align: middle;\n",
       "    }\n",
       "\n",
       "    .dataframe tbody tr th {\n",
       "        vertical-align: top;\n",
       "    }\n",
       "\n",
       "    .dataframe thead th {\n",
       "        text-align: right;\n",
       "    }\n",
       "</style>\n",
       "<table border=\"1\" class=\"dataframe\">\n",
       "  <thead>\n",
       "    <tr style=\"text-align: right;\">\n",
       "      <th></th>\n",
       "      <th>Call Id</th>\n",
       "      <th>Agent</th>\n",
       "      <th>Date</th>\n",
       "      <th>Time</th>\n",
       "      <th>Topic</th>\n",
       "      <th>Answered (Y/N)</th>\n",
       "      <th>Resolved</th>\n",
       "      <th>Speed of answer in seconds</th>\n",
       "      <th>AvgTalkDuration</th>\n",
       "      <th>Satisfaction rating</th>\n",
       "    </tr>\n",
       "  </thead>\n",
       "  <tbody>\n",
       "    <tr>\n",
       "      <th>101</th>\n",
       "      <td>ID0102</td>\n",
       "      <td>Martha</td>\n",
       "      <td>2021-01-02</td>\n",
       "      <td>1900-01-01 13:45:07</td>\n",
       "      <td>Technical Support</td>\n",
       "      <td>Yes</td>\n",
       "      <td>No</td>\n",
       "      <td>79.00</td>\n",
       "      <td>5.52</td>\n",
       "      <td>1.0</td>\n",
       "    </tr>\n",
       "    <tr>\n",
       "      <th>2029</th>\n",
       "      <td>ID2030</td>\n",
       "      <td>Jim</td>\n",
       "      <td>2021-02-05</td>\n",
       "      <td>1900-01-01 09:27:22</td>\n",
       "      <td>Contract related</td>\n",
       "      <td>No</td>\n",
       "      <td>No</td>\n",
       "      <td>67.52</td>\n",
       "      <td>3.75</td>\n",
       "      <td>3.4</td>\n",
       "    </tr>\n",
       "    <tr>\n",
       "      <th>3548</th>\n",
       "      <td>ID3549</td>\n",
       "      <td>Martha</td>\n",
       "      <td>2021-03-03</td>\n",
       "      <td>1900-01-01 15:50:24</td>\n",
       "      <td>Payment related</td>\n",
       "      <td>Yes</td>\n",
       "      <td>Yes</td>\n",
       "      <td>89.00</td>\n",
       "      <td>5.13</td>\n",
       "      <td>4.0</td>\n",
       "    </tr>\n",
       "    <tr>\n",
       "      <th>859</th>\n",
       "      <td>ID0860</td>\n",
       "      <td>Becky</td>\n",
       "      <td>2021-01-15</td>\n",
       "      <td>1900-01-01 17:41:17</td>\n",
       "      <td>Streaming</td>\n",
       "      <td>Yes</td>\n",
       "      <td>Yes</td>\n",
       "      <td>71.00</td>\n",
       "      <td>2.65</td>\n",
       "      <td>3.0</td>\n",
       "    </tr>\n",
       "    <tr>\n",
       "      <th>1590</th>\n",
       "      <td>ID1591</td>\n",
       "      <td>Diane</td>\n",
       "      <td>2021-01-29</td>\n",
       "      <td>1900-01-01 11:57:07</td>\n",
       "      <td>Payment related</td>\n",
       "      <td>No</td>\n",
       "      <td>No</td>\n",
       "      <td>67.52</td>\n",
       "      <td>3.75</td>\n",
       "      <td>3.4</td>\n",
       "    </tr>\n",
       "  </tbody>\n",
       "</table>\n",
       "</div>"
      ],
      "text/plain": [
       "     Call Id   Agent       Date                Time              Topic  \\\n",
       "101   ID0102  Martha 2021-01-02 1900-01-01 13:45:07  Technical Support   \n",
       "2029  ID2030     Jim 2021-02-05 1900-01-01 09:27:22   Contract related   \n",
       "3548  ID3549  Martha 2021-03-03 1900-01-01 15:50:24    Payment related   \n",
       "859   ID0860   Becky 2021-01-15 1900-01-01 17:41:17          Streaming   \n",
       "1590  ID1591   Diane 2021-01-29 1900-01-01 11:57:07    Payment related   \n",
       "\n",
       "     Answered (Y/N) Resolved  Speed of answer in seconds  AvgTalkDuration  \\\n",
       "101             Yes       No                       79.00             5.52   \n",
       "2029             No       No                       67.52             3.75   \n",
       "3548            Yes      Yes                       89.00             5.13   \n",
       "859             Yes      Yes                       71.00             2.65   \n",
       "1590             No       No                       67.52             3.75   \n",
       "\n",
       "      Satisfaction rating  \n",
       "101                   1.0  \n",
       "2029                  3.4  \n",
       "3548                  4.0  \n",
       "859                   3.0  \n",
       "1590                  3.4  "
      ]
     },
     "execution_count": 18,
     "metadata": {},
     "output_type": "execute_result"
    }
   ],
   "source": [
    "data.sample(5)"
   ]
  }
 ],
 "metadata": {
  "kernelspec": {
   "display_name": "Python 3",
   "language": "python",
   "name": "python3"
  },
  "language_info": {
   "codemirror_mode": {
    "name": "ipython",
    "version": 3
   },
   "file_extension": ".py",
   "mimetype": "text/x-python",
   "name": "python",
   "nbconvert_exporter": "python",
   "pygments_lexer": "ipython3",
   "version": "3.13.1"
  }
 },
 "nbformat": 4,
 "nbformat_minor": 2
}
